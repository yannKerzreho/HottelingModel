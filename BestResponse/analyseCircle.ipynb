{
 "cells": [
  {
   "cell_type": "code",
   "execution_count": 7,
   "metadata": {},
   "outputs": [],
   "source": [
    "from importlib import reload\n",
    "import Class\n",
    "import Segment\n",
    "import Circle\n",
    "reload(Class)\n",
    "reload(Segment)\n",
    "reload(Circle)\n",
    "from Class import SpatialCompetitionModel, Firm\n",
    "from Segment import LinearModel\n",
    "from Cube import CubeModel\n",
    "from Circle import CircularModel\n",
    "import matplotlib.pyplot as plt\n",
    "\n",
    "import numpy as np\n",
    "import numpy.typing as npt"
   ]
  },
  {
   "cell_type": "code",
   "execution_count": 8,
   "metadata": {},
   "outputs": [],
   "source": [
    "def creatAggregation(N, c, beta):\n",
    "    price = c + N/(beta * (N-1))\n",
    "    return [Firm(np.array([np.pi]), price) for _ in range(N)]"
   ]
  },
  {
   "cell_type": "code",
   "execution_count": null,
   "metadata": {},
   "outputs": [
    {
     "name": "stdout",
     "output_type": "stream",
     "text": [
      "LinearModel(beta=5.0, cost=1.0\n",
      "\n",
      "Firms:\n",
      "  1: position=3.142, price=1.300\n",
      "  2: position=3.142, price=1.300\n",
      "  3: position=3.142, price=1.300\n",
      ")\n"
     ]
    },
    {
     "data": {
      "text/plain": [
       "(array([0.73107664]), 3.0350945301727106)"
      ]
     },
     "execution_count": 10,
     "metadata": {},
     "output_type": "execute_result"
    }
   ],
   "source": [
    "N=3\n",
    "beta=5.0  \n",
    "cost=1.0 \n",
    "pi=1.0\n",
    "model = LinearModel(\n",
    "    N=N, beta=beta, cost=cost, pi=pi,\n",
    "    firms=creatAggregation(N, cost, beta)\n",
    ")\n",
    "print(model)\n",
    "model.best_response(0)"
   ]
  }
 ],
 "metadata": {
  "kernelspec": {
   "display_name": "base",
   "language": "python",
   "name": "python3"
  },
  "language_info": {
   "codemirror_mode": {
    "name": "ipython",
    "version": 3
   },
   "file_extension": ".py",
   "mimetype": "text/x-python",
   "name": "python",
   "nbconvert_exporter": "python",
   "pygments_lexer": "ipython3",
   "version": "3.12.7"
  }
 },
 "nbformat": 4,
 "nbformat_minor": 2
}
