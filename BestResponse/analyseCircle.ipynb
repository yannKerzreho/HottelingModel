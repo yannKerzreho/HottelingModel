{
 "cells": [
  {
   "cell_type": "code",
   "execution_count": 1,
   "metadata": {},
   "outputs": [],
   "source": [
    "from importlib import reload\n",
    "import Class\n",
    "import Segment\n",
    "import Circle\n",
    "reload(Class)\n",
    "reload(Circle)\n",
    "reload(Segment)\n",
    "from Class import SpatialCompetitionModel, Firm\n",
    "from Circle import CircularModel\n",
    "from Segment import LinearModel\n",
    "from Cube import CubeModel\n",
    "import matplotlib.pyplot as plt\n",
    "\n",
    "import numpy as np\n",
    "import numpy.typing as npt"
   ]
  },
  {
   "cell_type": "code",
   "execution_count": 2,
   "metadata": {},
   "outputs": [],
   "source": [
    "def creatAggregation(N, c, beta):\n",
    "    price = c + N/(beta * (N-1))\n",
    "    return [Firm(np.array([np.pi]), price) for _ in range(N)]"
   ]
  },
  {
   "cell_type": "code",
   "execution_count": 5,
   "metadata": {},
   "outputs": [
    {
     "data": {
      "text/plain": [
       "LinearModel(beta=5.0, cost=1.0\n",
       "\n",
       "Firms:\n",
       "  1: position=3.142, price=1.250\n",
       "  2: position=3.142, price=1.250\n",
       "  3: position=3.142, price=1.250\n",
       "  4: position=3.142, price=1.250\n",
       "  5: position=3.142, price=1.250\n",
       ")"
      ]
     },
     "execution_count": 5,
     "metadata": {},
     "output_type": "execute_result"
    }
   ],
   "source": [
    "N=5\n",
    "beta=5.0  # Higher beta means sharper market share boundaries\n",
    "cost=1.0  # Production cost\n",
    "pi=1.0    # PPP intensity\n",
    "model = LinearModel(\n",
    "    N=N, beta=beta, cost=cost, pi=pi,\n",
    "    firms=creatAggregation(N, cost, beta)\n",
    ")\n",
    "model"
   ]
  },
  {
   "cell_type": "code",
   "execution_count": 6,
   "metadata": {},
   "outputs": [
    {
     "data": {
      "text/plain": [
       "(array([0.7249796]), 2.8709796235460936)"
      ]
     },
     "execution_count": 6,
     "metadata": {},
     "output_type": "execute_result"
    }
   ],
   "source": [
    "model.best_response(0)"
   ]
  }
 ],
 "metadata": {
  "kernelspec": {
   "display_name": "base",
   "language": "python",
   "name": "python3"
  },
  "language_info": {
   "codemirror_mode": {
    "name": "ipython",
    "version": 3
   },
   "file_extension": ".py",
   "mimetype": "text/x-python",
   "name": "python",
   "nbconvert_exporter": "python",
   "pygments_lexer": "ipython3",
   "version": "3.12.7"
  }
 },
 "nbformat": 4,
 "nbformat_minor": 2
}
